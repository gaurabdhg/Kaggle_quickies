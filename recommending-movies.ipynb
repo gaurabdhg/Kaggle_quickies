{
 "cells": [
  {
   "cell_type": "markdown",
   "id": "76ca4b2a",
   "metadata": {
    "_cell_guid": "b1076dfc-b9ad-4769-8c92-a6c4dae69d19",
    "_uuid": "8f2839f25d086af736a60e9eeb907d3b93b6e0e5",
    "papermill": {
     "duration": 0.002155,
     "end_time": "2024-01-25T21:44:58.143204",
     "exception": false,
     "start_time": "2024-01-25T21:44:58.141049",
     "status": "completed"
    },
    "tags": []
   },
   "source": [
    "# Don't Know What to Watch?"
   ]
  },
  {
   "cell_type": "markdown",
   "id": "ce3fca70",
   "metadata": {
    "papermill": {
     "duration": 0.001318,
     "end_time": "2024-01-25T21:44:58.146261",
     "exception": false,
     "start_time": "2024-01-25T21:44:58.144943",
     "status": "completed"
    },
    "tags": []
   },
   "source": [
    "In this notebook we'll take a look at the movies and TV shows available in our database. We'll then scour through them and use a couple of recommendation algorithms viz. conent , popularity and, collaborative filtering bases to tune a recommendaion system based on user needs. We have two datasets from MovieLens viz. \n",
    "* The Full Dataset: 26 million ratings and 750k tags applied to over 40k moviesby nearly 270k users. This dataset also includes 12 million relevance scores across 1100 tags.\n",
    "* The Small Dataset: A subset of the full dataset contains 100k ratings and 1300 tags applied by 700 user to 9000 movies."
   ]
  },
  {
   "cell_type": "markdown",
   "id": "f45cb5e2",
   "metadata": {
    "papermill": {
     "duration": 0.001282,
     "end_time": "2024-01-25T21:44:58.149169",
     "exception": false,
     "start_time": "2024-01-25T21:44:58.147887",
     "status": "completed"
    },
    "tags": []
   },
   "source": [
    "Lets build a general purpose recommendorusing the Full Dataset."
   ]
  },
  {
   "cell_type": "code",
   "execution_count": 1,
   "id": "2bdfb3a9",
   "metadata": {
    "execution": {
     "iopub.execute_input": "2024-01-25T21:44:58.154192Z",
     "iopub.status.busy": "2024-01-25T21:44:58.153263Z",
     "iopub.status.idle": "2024-01-25T21:44:59.979100Z",
     "shell.execute_reply": "2024-01-25T21:44:59.977763Z"
    },
    "papermill": {
     "duration": 1.830938,
     "end_time": "2024-01-25T21:44:59.981553",
     "exception": false,
     "start_time": "2024-01-25T21:44:58.150615",
     "status": "completed"
    },
    "tags": []
   },
   "outputs": [],
   "source": [
    "%matplotlib inline\n",
    "import pandas as pd\n",
    "import numpy as np\n",
    "import matplotlib.pyplot as plt\n",
    "import seaborn as sns\n",
    "from scipy import stats\n",
    "from ast import literal_eval\n"
   ]
  },
  {
   "cell_type": "code",
   "execution_count": null,
   "id": "e6fa7b57",
   "metadata": {
    "papermill": {
     "duration": 0.001451,
     "end_time": "2024-01-25T21:44:59.984986",
     "exception": false,
     "start_time": "2024-01-25T21:44:59.983535",
     "status": "completed"
    },
    "tags": []
   },
   "outputs": [],
   "source": []
  }
 ],
 "metadata": {
  "kaggle": {
   "accelerator": "none",
   "dataSources": [],
   "dockerImageVersionId": 30635,
   "isGpuEnabled": false,
   "isInternetEnabled": true,
   "language": "python",
   "sourceType": "notebook"
  },
  "kernelspec": {
   "display_name": "Python 3",
   "language": "python",
   "name": "python3"
  },
  "language_info": {
   "codemirror_mode": {
    "name": "ipython",
    "version": 3
   },
   "file_extension": ".py",
   "mimetype": "text/x-python",
   "name": "python",
   "nbconvert_exporter": "python",
   "pygments_lexer": "ipython3",
   "version": "3.10.12"
  },
  "papermill": {
   "default_parameters": {},
   "duration": 5.887235,
   "end_time": "2024-01-25T21:45:00.506098",
   "environment_variables": {},
   "exception": null,
   "input_path": "__notebook__.ipynb",
   "output_path": "__notebook__.ipynb",
   "parameters": {},
   "start_time": "2024-01-25T21:44:54.618863",
   "version": "2.4.0"
  }
 },
 "nbformat": 4,
 "nbformat_minor": 5
}
