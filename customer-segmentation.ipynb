{
 "cells": [
  {
   "cell_type": "markdown",
   "id": "ea422787",
   "metadata": {
    "papermill": {
     "duration": 0.003163,
     "end_time": "2024-01-25T23:14:47.693871",
     "exception": false,
     "start_time": "2024-01-25T23:14:47.690708",
     "status": "completed"
    },
    "tags": []
   },
   "source": [
    "# Customer Segmentation with K-means Clustering"
   ]
  },
  {
   "cell_type": "markdown",
   "id": "cb287432",
   "metadata": {
    "papermill": {
     "duration": 0.00242,
     "end_time": "2024-01-25T23:14:47.699126",
     "exception": false,
     "start_time": "2024-01-25T23:14:47.696706",
     "status": "completed"
    },
    "tags": []
   },
   "source": [
    "In this notebook we are trying to understand the order patterns of customers and group them into clusters. We'll use this dataset to visualise different aspects of the data and work onwards.\n",
    "Dataset represents real customers & orders data between November 2018 - April 2019 and it is pseudonymized for confidentiality."
   ]
  },
  {
   "cell_type": "markdown",
   "id": "4e9a6408",
   "metadata": {
    "papermill": {
     "duration": 0.002273,
     "end_time": "2024-01-25T23:14:47.703913",
     "exception": false,
     "start_time": "2024-01-25T23:14:47.701640",
     "status": "completed"
    },
    "tags": []
   },
   "source": [
    "### Libraries"
   ]
  },
  {
   "cell_type": "code",
   "execution_count": 1,
   "id": "44479332",
   "metadata": {
    "execution": {
     "iopub.execute_input": "2024-01-25T23:14:47.711024Z",
     "iopub.status.busy": "2024-01-25T23:14:47.710511Z",
     "iopub.status.idle": "2024-01-25T23:14:49.909006Z",
     "shell.execute_reply": "2024-01-25T23:14:49.908326Z"
    },
    "papermill": {
     "duration": 2.204536,
     "end_time": "2024-01-25T23:14:49.910942",
     "exception": false,
     "start_time": "2024-01-25T23:14:47.706406",
     "status": "completed"
    },
    "tags": []
   },
   "outputs": [],
   "source": [
    "%matplotlib inline\n",
    "%config InlineBackend.figure_format='retina'\n",
    "\n",
    "import numpy as np\n",
    "import pandas as pd\n",
    "import matplotlib.pyplot as plt\n",
    "import plotly.express as px\n",
    "import plotly.graph_objects as go\n",
    "from plotly.subplots import make_subplots\n",
    "from sklearn.cluster import KMeans"
   ]
  },
  {
   "cell_type": "markdown",
   "id": "d4bf4f0f",
   "metadata": {
    "papermill": {
     "duration": 0.002382,
     "end_time": "2024-01-25T23:14:49.916227",
     "exception": false,
     "start_time": "2024-01-25T23:14:49.913845",
     "status": "completed"
    },
    "tags": []
   },
   "source": [
    "### Data Investigation"
   ]
  },
  {
   "cell_type": "code",
   "execution_count": 2,
   "id": "1c124a97",
   "metadata": {
    "execution": {
     "iopub.execute_input": "2024-01-25T23:14:49.922892Z",
     "iopub.status.busy": "2024-01-25T23:14:49.922270Z",
     "iopub.status.idle": "2024-01-25T23:14:50.171851Z",
     "shell.execute_reply": "2024-01-25T23:14:50.170993Z"
    },
    "papermill": {
     "duration": 0.255709,
     "end_time": "2024-01-25T23:14:50.174548",
     "exception": false,
     "start_time": "2024-01-25T23:14:49.918839",
     "status": "completed"
    },
    "tags": []
   },
   "outputs": [
    {
     "data": {
      "text/html": [
       "<div>\n",
       "<style scoped>\n",
       "    .dataframe tbody tr th:only-of-type {\n",
       "        vertical-align: middle;\n",
       "    }\n",
       "\n",
       "    .dataframe tbody tr th {\n",
       "        vertical-align: top;\n",
       "    }\n",
       "\n",
       "    .dataframe thead th {\n",
       "        text-align: right;\n",
       "    }\n",
       "</style>\n",
       "<table border=\"1\" class=\"dataframe\">\n",
       "  <thead>\n",
       "    <tr style=\"text-align: right;\">\n",
       "      <th></th>\n",
       "      <th>product_title</th>\n",
       "      <th>product_type</th>\n",
       "      <th>variant_title</th>\n",
       "      <th>variant_sku</th>\n",
       "      <th>variant_id</th>\n",
       "      <th>customer_id</th>\n",
       "      <th>order_id</th>\n",
       "      <th>day</th>\n",
       "      <th>net_quantity</th>\n",
       "      <th>gross_sales</th>\n",
       "      <th>discounts</th>\n",
       "      <th>returns</th>\n",
       "      <th>net_sales</th>\n",
       "      <th>taxes</th>\n",
       "      <th>total_sales</th>\n",
       "      <th>returned_item_quantity</th>\n",
       "      <th>ordered_item_quantity</th>\n",
       "    </tr>\n",
       "  </thead>\n",
       "  <tbody>\n",
       "    <tr>\n",
       "      <th>0</th>\n",
       "      <td>DPR</td>\n",
       "      <td>DPR</td>\n",
       "      <td>100</td>\n",
       "      <td>AD-982-708-895-F-6C894FB</td>\n",
       "      <td>52039657</td>\n",
       "      <td>1312378</td>\n",
       "      <td>83290718932496</td>\n",
       "      <td>04/12/2018</td>\n",
       "      <td>2</td>\n",
       "      <td>200.0</td>\n",
       "      <td>-200.00</td>\n",
       "      <td>0.00</td>\n",
       "      <td>0.0</td>\n",
       "      <td>0.0</td>\n",
       "      <td>0.0</td>\n",
       "      <td>0</td>\n",
       "      <td>2</td>\n",
       "    </tr>\n",
       "    <tr>\n",
       "      <th>1</th>\n",
       "      <td>RJF</td>\n",
       "      <td>Product P</td>\n",
       "      <td>28 / A / MTM</td>\n",
       "      <td>83-490-E49-8C8-8-3B100BC</td>\n",
       "      <td>56914686</td>\n",
       "      <td>3715657</td>\n",
       "      <td>36253792848113</td>\n",
       "      <td>01/04/2019</td>\n",
       "      <td>2</td>\n",
       "      <td>190.0</td>\n",
       "      <td>-190.00</td>\n",
       "      <td>0.00</td>\n",
       "      <td>0.0</td>\n",
       "      <td>0.0</td>\n",
       "      <td>0.0</td>\n",
       "      <td>0</td>\n",
       "      <td>2</td>\n",
       "    </tr>\n",
       "    <tr>\n",
       "      <th>2</th>\n",
       "      <td>CLH</td>\n",
       "      <td>Product B</td>\n",
       "      <td>32 / B / FtO</td>\n",
       "      <td>68-ECA-BC7-3B2-A-E73DE1B</td>\n",
       "      <td>24064862</td>\n",
       "      <td>9533448</td>\n",
       "      <td>73094559597229</td>\n",
       "      <td>05/11/2018</td>\n",
       "      <td>0</td>\n",
       "      <td>164.8</td>\n",
       "      <td>-156.56</td>\n",
       "      <td>-8.24</td>\n",
       "      <td>0.0</td>\n",
       "      <td>0.0</td>\n",
       "      <td>0.0</td>\n",
       "      <td>-2</td>\n",
       "      <td>2</td>\n",
       "    </tr>\n",
       "    <tr>\n",
       "      <th>3</th>\n",
       "      <td>NMA</td>\n",
       "      <td>Product F</td>\n",
       "      <td>40 / B / FtO</td>\n",
       "      <td>6C-1F1-226-1B3-2-3542B41</td>\n",
       "      <td>43823868</td>\n",
       "      <td>4121004</td>\n",
       "      <td>53616575668264</td>\n",
       "      <td>19/02/2019</td>\n",
       "      <td>1</td>\n",
       "      <td>119.0</td>\n",
       "      <td>-119.00</td>\n",
       "      <td>0.00</td>\n",
       "      <td>0.0</td>\n",
       "      <td>0.0</td>\n",
       "      <td>0.0</td>\n",
       "      <td>0</td>\n",
       "      <td>1</td>\n",
       "    </tr>\n",
       "    <tr>\n",
       "      <th>4</th>\n",
       "      <td>NMA</td>\n",
       "      <td>Product F</td>\n",
       "      <td>40 / B / FtO</td>\n",
       "      <td>6C-1F1-226-1B3-2-3542B41</td>\n",
       "      <td>43823868</td>\n",
       "      <td>4121004</td>\n",
       "      <td>29263220319421</td>\n",
       "      <td>19/02/2019</td>\n",
       "      <td>1</td>\n",
       "      <td>119.0</td>\n",
       "      <td>-119.00</td>\n",
       "      <td>0.00</td>\n",
       "      <td>0.0</td>\n",
       "      <td>0.0</td>\n",
       "      <td>0.0</td>\n",
       "      <td>0</td>\n",
       "      <td>1</td>\n",
       "    </tr>\n",
       "  </tbody>\n",
       "</table>\n",
       "</div>"
      ],
      "text/plain": [
       "  product_title product_type variant_title               variant_sku  \\\n",
       "0           DPR          DPR           100  AD-982-708-895-F-6C894FB   \n",
       "1           RJF    Product P  28 / A / MTM  83-490-E49-8C8-8-3B100BC   \n",
       "2           CLH    Product B  32 / B / FtO  68-ECA-BC7-3B2-A-E73DE1B   \n",
       "3           NMA    Product F  40 / B / FtO  6C-1F1-226-1B3-2-3542B41   \n",
       "4           NMA    Product F  40 / B / FtO  6C-1F1-226-1B3-2-3542B41   \n",
       "\n",
       "   variant_id  customer_id        order_id         day  net_quantity  \\\n",
       "0    52039657      1312378  83290718932496  04/12/2018             2   \n",
       "1    56914686      3715657  36253792848113  01/04/2019             2   \n",
       "2    24064862      9533448  73094559597229  05/11/2018             0   \n",
       "3    43823868      4121004  53616575668264  19/02/2019             1   \n",
       "4    43823868      4121004  29263220319421  19/02/2019             1   \n",
       "\n",
       "   gross_sales  discounts  returns  net_sales  taxes  total_sales  \\\n",
       "0        200.0    -200.00     0.00        0.0    0.0          0.0   \n",
       "1        190.0    -190.00     0.00        0.0    0.0          0.0   \n",
       "2        164.8    -156.56    -8.24        0.0    0.0          0.0   \n",
       "3        119.0    -119.00     0.00        0.0    0.0          0.0   \n",
       "4        119.0    -119.00     0.00        0.0    0.0          0.0   \n",
       "\n",
       "   returned_item_quantity  ordered_item_quantity  \n",
       "0                       0                      2  \n",
       "1                       0                      2  \n",
       "2                      -2                      2  \n",
       "3                       0                      1  \n",
       "4                       0                      1  "
      ]
     },
     "execution_count": 2,
     "metadata": {},
     "output_type": "execute_result"
    }
   ],
   "source": [
    "#load data\n",
    "data=pd.read_csv(\"/kaggle/input/customerorders/Orders - Analysis Task.csv\")\n",
    "data.head()"
   ]
  },
  {
   "cell_type": "markdown",
   "id": "951e3f2a",
   "metadata": {
    "papermill": {
     "duration": 0.00276,
     "end_time": "2024-01-25T23:14:50.180435",
     "exception": false,
     "start_time": "2024-01-25T23:14:50.177675",
     "status": "completed"
    },
    "tags": []
   },
   "source": [
    "We can see what the data looks like but 5 rows of data barely gives us an idea about it, lets dive deeper and take a look at the summary."
   ]
  },
  {
   "cell_type": "code",
   "execution_count": 3,
   "id": "0f5778eb",
   "metadata": {
    "execution": {
     "iopub.execute_input": "2024-01-25T23:14:50.187479Z",
     "iopub.status.busy": "2024-01-25T23:14:50.187149Z",
     "iopub.status.idle": "2024-01-25T23:14:50.220940Z",
     "shell.execute_reply": "2024-01-25T23:14:50.220316Z"
    },
    "papermill": {
     "duration": 0.039631,
     "end_time": "2024-01-25T23:14:50.222897",
     "exception": false,
     "start_time": "2024-01-25T23:14:50.183266",
     "status": "completed"
    },
    "tags": []
   },
   "outputs": [
    {
     "name": "stdout",
     "output_type": "stream",
     "text": [
      "<class 'pandas.core.frame.DataFrame'>\n",
      "RangeIndex: 70052 entries, 0 to 70051\n",
      "Data columns (total 17 columns):\n",
      " #   Column                  Non-Null Count  Dtype  \n",
      "---  ------                  --------------  -----  \n",
      " 0   product_title           70052 non-null  object \n",
      " 1   product_type            70052 non-null  object \n",
      " 2   variant_title           70052 non-null  object \n",
      " 3   variant_sku             70052 non-null  object \n",
      " 4   variant_id              70052 non-null  int64  \n",
      " 5   customer_id             70052 non-null  int64  \n",
      " 6   order_id                70052 non-null  int64  \n",
      " 7   day                     70052 non-null  object \n",
      " 8   net_quantity            70052 non-null  int64  \n",
      " 9   gross_sales             70052 non-null  float64\n",
      " 10  discounts               70052 non-null  float64\n",
      " 11  returns                 70052 non-null  float64\n",
      " 12  net_sales               70052 non-null  float64\n",
      " 13  taxes                   70052 non-null  float64\n",
      " 14  total_sales             70052 non-null  float64\n",
      " 15  returned_item_quantity  70052 non-null  int64  \n",
      " 16  ordered_item_quantity   70052 non-null  int64  \n",
      "dtypes: float64(6), int64(6), object(5)\n",
      "memory usage: 9.1+ MB\n"
     ]
    }
   ],
   "source": [
    "data.info()"
   ]
  },
  {
   "cell_type": "code",
   "execution_count": 4,
   "id": "01d3fc6b",
   "metadata": {
    "execution": {
     "iopub.execute_input": "2024-01-25T23:14:50.230556Z",
     "iopub.status.busy": "2024-01-25T23:14:50.230139Z",
     "iopub.status.idle": "2024-01-25T23:14:50.282405Z",
     "shell.execute_reply": "2024-01-25T23:14:50.281634Z"
    },
    "papermill": {
     "duration": 0.057799,
     "end_time": "2024-01-25T23:14:50.284075",
     "exception": false,
     "start_time": "2024-01-25T23:14:50.226276",
     "status": "completed"
    },
    "tags": []
   },
   "outputs": [
    {
     "data": {
      "text/html": [
       "<div>\n",
       "<style scoped>\n",
       "    .dataframe tbody tr th:only-of-type {\n",
       "        vertical-align: middle;\n",
       "    }\n",
       "\n",
       "    .dataframe tbody tr th {\n",
       "        vertical-align: top;\n",
       "    }\n",
       "\n",
       "    .dataframe thead th {\n",
       "        text-align: right;\n",
       "    }\n",
       "</style>\n",
       "<table border=\"1\" class=\"dataframe\">\n",
       "  <thead>\n",
       "    <tr style=\"text-align: right;\">\n",
       "      <th></th>\n",
       "      <th>variant_id</th>\n",
       "      <th>customer_id</th>\n",
       "      <th>order_id</th>\n",
       "      <th>net_quantity</th>\n",
       "      <th>gross_sales</th>\n",
       "      <th>discounts</th>\n",
       "      <th>returns</th>\n",
       "      <th>net_sales</th>\n",
       "      <th>taxes</th>\n",
       "      <th>total_sales</th>\n",
       "      <th>returned_item_quantity</th>\n",
       "      <th>ordered_item_quantity</th>\n",
       "    </tr>\n",
       "  </thead>\n",
       "  <tbody>\n",
       "    <tr>\n",
       "      <th>count</th>\n",
       "      <td>7.005200e+04</td>\n",
       "      <td>7.005200e+04</td>\n",
       "      <td>7.005200e+04</td>\n",
       "      <td>70052.000000</td>\n",
       "      <td>70052.000000</td>\n",
       "      <td>70052.000000</td>\n",
       "      <td>70052.000000</td>\n",
       "      <td>70052.000000</td>\n",
       "      <td>70052.000000</td>\n",
       "      <td>70052.000000</td>\n",
       "      <td>70052.000000</td>\n",
       "      <td>70052.000000</td>\n",
       "    </tr>\n",
       "    <tr>\n",
       "      <th>mean</th>\n",
       "      <td>2.442320e+11</td>\n",
       "      <td>6.013091e+11</td>\n",
       "      <td>5.506075e+13</td>\n",
       "      <td>0.701179</td>\n",
       "      <td>61.776302</td>\n",
       "      <td>-4.949904</td>\n",
       "      <td>-10.246051</td>\n",
       "      <td>46.580348</td>\n",
       "      <td>9.123636</td>\n",
       "      <td>55.703982</td>\n",
       "      <td>-0.156098</td>\n",
       "      <td>0.857277</td>\n",
       "    </tr>\n",
       "    <tr>\n",
       "      <th>std</th>\n",
       "      <td>4.255079e+12</td>\n",
       "      <td>6.223201e+12</td>\n",
       "      <td>2.587640e+13</td>\n",
       "      <td>0.739497</td>\n",
       "      <td>31.800689</td>\n",
       "      <td>7.769972</td>\n",
       "      <td>25.154677</td>\n",
       "      <td>51.802690</td>\n",
       "      <td>10.305236</td>\n",
       "      <td>61.920557</td>\n",
       "      <td>0.369190</td>\n",
       "      <td>0.380820</td>\n",
       "    </tr>\n",
       "    <tr>\n",
       "      <th>min</th>\n",
       "      <td>1.001447e+07</td>\n",
       "      <td>1.000661e+06</td>\n",
       "      <td>1.000657e+13</td>\n",
       "      <td>-3.000000</td>\n",
       "      <td>0.000000</td>\n",
       "      <td>-200.000000</td>\n",
       "      <td>-237.500000</td>\n",
       "      <td>-237.500000</td>\n",
       "      <td>-47.500000</td>\n",
       "      <td>-285.000000</td>\n",
       "      <td>-3.000000</td>\n",
       "      <td>0.000000</td>\n",
       "    </tr>\n",
       "    <tr>\n",
       "      <th>25%</th>\n",
       "      <td>2.692223e+07</td>\n",
       "      <td>3.295695e+06</td>\n",
       "      <td>3.270317e+13</td>\n",
       "      <td>1.000000</td>\n",
       "      <td>51.670000</td>\n",
       "      <td>-8.340000</td>\n",
       "      <td>0.000000</td>\n",
       "      <td>47.080000</td>\n",
       "      <td>8.375000</td>\n",
       "      <td>56.227500</td>\n",
       "      <td>0.000000</td>\n",
       "      <td>1.000000</td>\n",
       "    </tr>\n",
       "    <tr>\n",
       "      <th>50%</th>\n",
       "      <td>4.494514e+07</td>\n",
       "      <td>5.566107e+06</td>\n",
       "      <td>5.522207e+13</td>\n",
       "      <td>1.000000</td>\n",
       "      <td>74.170000</td>\n",
       "      <td>0.000000</td>\n",
       "      <td>0.000000</td>\n",
       "      <td>63.330000</td>\n",
       "      <td>12.660000</td>\n",
       "      <td>76.000000</td>\n",
       "      <td>0.000000</td>\n",
       "      <td>1.000000</td>\n",
       "    </tr>\n",
       "    <tr>\n",
       "      <th>75%</th>\n",
       "      <td>7.743106e+07</td>\n",
       "      <td>7.815352e+06</td>\n",
       "      <td>7.736876e+13</td>\n",
       "      <td>1.000000</td>\n",
       "      <td>79.170000</td>\n",
       "      <td>0.000000</td>\n",
       "      <td>0.000000</td>\n",
       "      <td>74.170000</td>\n",
       "      <td>14.840000</td>\n",
       "      <td>89.000000</td>\n",
       "      <td>0.000000</td>\n",
       "      <td>1.000000</td>\n",
       "    </tr>\n",
       "    <tr>\n",
       "      <th>max</th>\n",
       "      <td>8.422212e+13</td>\n",
       "      <td>9.977409e+13</td>\n",
       "      <td>9.999554e+13</td>\n",
       "      <td>6.000000</td>\n",
       "      <td>445.000000</td>\n",
       "      <td>0.000000</td>\n",
       "      <td>0.000000</td>\n",
       "      <td>445.000000</td>\n",
       "      <td>63.340000</td>\n",
       "      <td>445.000000</td>\n",
       "      <td>0.000000</td>\n",
       "      <td>6.000000</td>\n",
       "    </tr>\n",
       "  </tbody>\n",
       "</table>\n",
       "</div>"
      ],
      "text/plain": [
       "         variant_id   customer_id      order_id  net_quantity   gross_sales  \\\n",
       "count  7.005200e+04  7.005200e+04  7.005200e+04  70052.000000  70052.000000   \n",
       "mean   2.442320e+11  6.013091e+11  5.506075e+13      0.701179     61.776302   \n",
       "std    4.255079e+12  6.223201e+12  2.587640e+13      0.739497     31.800689   \n",
       "min    1.001447e+07  1.000661e+06  1.000657e+13     -3.000000      0.000000   \n",
       "25%    2.692223e+07  3.295695e+06  3.270317e+13      1.000000     51.670000   \n",
       "50%    4.494514e+07  5.566107e+06  5.522207e+13      1.000000     74.170000   \n",
       "75%    7.743106e+07  7.815352e+06  7.736876e+13      1.000000     79.170000   \n",
       "max    8.422212e+13  9.977409e+13  9.999554e+13      6.000000    445.000000   \n",
       "\n",
       "          discounts       returns     net_sales         taxes   total_sales  \\\n",
       "count  70052.000000  70052.000000  70052.000000  70052.000000  70052.000000   \n",
       "mean      -4.949904    -10.246051     46.580348      9.123636     55.703982   \n",
       "std        7.769972     25.154677     51.802690     10.305236     61.920557   \n",
       "min     -200.000000   -237.500000   -237.500000    -47.500000   -285.000000   \n",
       "25%       -8.340000      0.000000     47.080000      8.375000     56.227500   \n",
       "50%        0.000000      0.000000     63.330000     12.660000     76.000000   \n",
       "75%        0.000000      0.000000     74.170000     14.840000     89.000000   \n",
       "max        0.000000      0.000000    445.000000     63.340000    445.000000   \n",
       "\n",
       "       returned_item_quantity  ordered_item_quantity  \n",
       "count            70052.000000           70052.000000  \n",
       "mean                -0.156098               0.857277  \n",
       "std                  0.369190               0.380820  \n",
       "min                 -3.000000               0.000000  \n",
       "25%                  0.000000               1.000000  \n",
       "50%                  0.000000               1.000000  \n",
       "75%                  0.000000               1.000000  \n",
       "max                  0.000000               6.000000  "
      ]
     },
     "execution_count": 4,
     "metadata": {},
     "output_type": "execute_result"
    }
   ],
   "source": [
    "data.describe()"
   ]
  },
  {
   "cell_type": "markdown",
   "id": "4655ef44",
   "metadata": {
    "papermill": {
     "duration": 0.002998,
     "end_time": "2024-01-25T23:14:50.290365",
     "exception": false,
     "start_time": "2024-01-25T23:14:50.287367",
     "status": "completed"
    },
    "tags": []
   },
   "source": [
    "We can see a bit more about our dataset now. We can obsever the data size, samples, data types, and so on. Looking at the description we can see that the mean ordered_item_quantity is less than 1. We can observe taxes and net sales in negative and the minimum net_quantity in negative which means a lot of items are being returned. We'll take more look into that.\n",
    "For the time being lets take orders where net_quantity is greater than 0."
   ]
  },
  {
   "cell_type": "code",
   "execution_count": 5,
   "id": "d24bf48a",
   "metadata": {
    "execution": {
     "iopub.execute_input": "2024-01-25T23:14:50.297724Z",
     "iopub.status.busy": "2024-01-25T23:14:50.297469Z",
     "iopub.status.idle": "2024-01-25T23:14:50.311150Z",
     "shell.execute_reply": "2024-01-25T23:14:50.310107Z"
    },
    "papermill": {
     "duration": 0.019557,
     "end_time": "2024-01-25T23:14:50.313042",
     "exception": false,
     "start_time": "2024-01-25T23:14:50.293485",
     "status": "completed"
    },
    "tags": []
   },
   "outputs": [
    {
     "name": "stdout",
     "output_type": "stream",
     "text": [
      "Number of rows with -ve net quantity: 10715\n"
     ]
    }
   ],
   "source": [
    "print(\"Number of rows with -ve net quantity:\", \n",
    "      data[data.net_quantity < 0].shape[0])\n",
    "# exclude not sold/ordered SKUs from the dataset\n",
    "data = data[data[\"ordered_item_quantity\"] > 0]"
   ]
  },
  {
   "cell_type": "code",
   "execution_count": null,
   "id": "50beb214",
   "metadata": {
    "papermill": {
     "duration": 0.002958,
     "end_time": "2024-01-25T23:14:50.319453",
     "exception": false,
     "start_time": "2024-01-25T23:14:50.316495",
     "status": "completed"
    },
    "tags": []
   },
   "outputs": [],
   "source": []
  }
 ],
 "metadata": {
  "kaggle": {
   "accelerator": "none",
   "dataSources": [
    {
     "datasetId": 4355635,
     "sourceId": 7482229,
     "sourceType": "datasetVersion"
    }
   ],
   "dockerImageVersionId": 30635,
   "isGpuEnabled": false,
   "isInternetEnabled": true,
   "language": "python",
   "sourceType": "notebook"
  },
  "kernelspec": {
   "display_name": "Python 3",
   "language": "python",
   "name": "python3"
  },
  "language_info": {
   "codemirror_mode": {
    "name": "ipython",
    "version": 3
   },
   "file_extension": ".py",
   "mimetype": "text/x-python",
   "name": "python",
   "nbconvert_exporter": "python",
   "pygments_lexer": "ipython3",
   "version": "3.10.12"
  },
  "papermill": {
   "default_parameters": {},
   "duration": 5.587796,
   "end_time": "2024-01-25T23:14:50.840490",
   "environment_variables": {},
   "exception": null,
   "input_path": "__notebook__.ipynb",
   "output_path": "__notebook__.ipynb",
   "parameters": {},
   "start_time": "2024-01-25T23:14:45.252694",
   "version": "2.4.0"
  }
 },
 "nbformat": 4,
 "nbformat_minor": 5
}
