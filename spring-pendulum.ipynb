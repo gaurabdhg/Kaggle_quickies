{
 "cells": [
  {
   "cell_type": "code",
   "execution_count": 1,
   "id": "18d151f7",
   "metadata": {
    "_cell_guid": "b1076dfc-b9ad-4769-8c92-a6c4dae69d19",
    "_uuid": "8f2839f25d086af736a60e9eeb907d3b93b6e0e5",
    "execution": {
     "iopub.execute_input": "2024-01-20T19:12:09.103997Z",
     "iopub.status.busy": "2024-01-20T19:12:09.103305Z",
     "iopub.status.idle": "2024-01-20T19:12:09.688749Z",
     "shell.execute_reply": "2024-01-20T19:12:09.687935Z"
    },
    "papermill": {
     "duration": 0.593364,
     "end_time": "2024-01-20T19:12:09.691110",
     "exception": false,
     "start_time": "2024-01-20T19:12:09.097746",
     "status": "completed"
    },
    "tags": []
   },
   "outputs": [],
   "source": [
    "import numpy as np # linear algebra\n",
    "import matplotlib.pyplot as plt\n",
    "from scipy.integrate import odeint\n",
    "from matplotlib.patches import Circle"
   ]
  },
  {
   "cell_type": "code",
   "execution_count": 2,
   "id": "494cc92e",
   "metadata": {
    "execution": {
     "iopub.execute_input": "2024-01-20T19:12:09.701954Z",
     "iopub.status.busy": "2024-01-20T19:12:09.701240Z",
     "iopub.status.idle": "2024-01-20T19:12:09.706889Z",
     "shell.execute_reply": "2024-01-20T19:12:09.705768Z"
    },
    "papermill": {
     "duration": 0.012365,
     "end_time": "2024-01-20T19:12:09.708924",
     "exception": false,
     "start_time": "2024-01-20T19:12:09.696559",
     "status": "completed"
    },
    "tags": []
   },
   "outputs": [],
   "source": [
    "L0,m,k=1,1,40\n",
    "g=9.81\n",
    "dt=0.01\n",
    "tmax=20\n",
    "t=np.arange(0,tmax+dt,dt)"
   ]
  },
  {
   "cell_type": "code",
   "execution_count": 3,
   "id": "fd3a9633",
   "metadata": {
    "execution": {
     "iopub.execute_input": "2024-01-20T19:12:09.717406Z",
     "iopub.status.busy": "2024-01-20T19:12:09.716719Z",
     "iopub.status.idle": "2024-01-20T19:12:09.722787Z",
     "shell.execute_reply": "2024-01-20T19:12:09.721938Z"
    },
    "papermill": {
     "duration": 0.012623,
     "end_time": "2024-01-20T19:12:09.724891",
     "exception": false,
     "start_time": "2024-01-20T19:12:09.712268",
     "status": "completed"
    },
    "tags": []
   },
   "outputs": [],
   "source": [
    "def diff(y,t,L0,k,m):\n",
    "    tta,a1,l,a2=y\n",
    "    thetadot=a1\n",
    "    ldot=a2\n",
    "    a1dot=-(g*np.sin(tta)+2*a1*a2)/l\n",
    "    a2dot=(m*l*a1**2-k*(l-L0)+m*g*np.cos(tta))/m\n",
    "    \n",
    "    return thetadot,a1dot,ldot,a2dot\n",
    "    "
   ]
  },
  {
   "cell_type": "code",
   "execution_count": 4,
   "id": "e9ca8f2e",
   "metadata": {
    "execution": {
     "iopub.execute_input": "2024-01-20T19:12:09.733508Z",
     "iopub.status.busy": "2024-01-20T19:12:09.732475Z",
     "iopub.status.idle": "2024-01-20T19:12:09.763354Z",
     "shell.execute_reply": "2024-01-20T19:12:09.762437Z"
    },
    "papermill": {
     "duration": 0.037778,
     "end_time": "2024-01-20T19:12:09.765917",
     "exception": false,
     "start_time": "2024-01-20T19:12:09.728139",
     "status": "completed"
    },
    "tags": []
   },
   "outputs": [],
   "source": [
    "y0=[.75*np.pi,0,L0,0]\n",
    "\n",
    "y=odeint(diff,y0,t,args=(L0,k,m))"
   ]
  },
  {
   "cell_type": "code",
   "execution_count": 5,
   "id": "3b2beace",
   "metadata": {
    "execution": {
     "iopub.execute_input": "2024-01-20T19:12:09.774445Z",
     "iopub.status.busy": "2024-01-20T19:12:09.774080Z",
     "iopub.status.idle": "2024-01-20T19:12:09.779787Z",
     "shell.execute_reply": "2024-01-20T19:12:09.778916Z"
    },
    "papermill": {
     "duration": 0.012471,
     "end_time": "2024-01-20T19:12:09.781847",
     "exception": false,
     "start_time": "2024-01-20T19:12:09.769376",
     "status": "completed"
    },
    "tags": []
   },
   "outputs": [],
   "source": [
    "tta,ttd,lgt,lgtd=y[:,0],y[:,1],y[:,2],y[:,3]\n",
    "x=lgt*np.sin(tta)\n",
    "y=-lgt*np.cos(tta)"
   ]
  },
  {
   "cell_type": "code",
   "execution_count": 6,
   "id": "8dc0311d",
   "metadata": {
    "execution": {
     "iopub.execute_input": "2024-01-20T19:12:09.789972Z",
     "iopub.status.busy": "2024-01-20T19:12:09.789599Z",
     "iopub.status.idle": "2024-01-20T19:12:09.794128Z",
     "shell.execute_reply": "2024-01-20T19:12:09.793019Z"
    },
    "papermill": {
     "duration": 0.011032,
     "end_time": "2024-01-20T19:12:09.796171",
     "exception": false,
     "start_time": "2024-01-20T19:12:09.785139",
     "status": "completed"
    },
    "tags": []
   },
   "outputs": [],
   "source": [
    "tsec=1\n",
    "mtra=int(tsec/dt)\n",
    "r=0.05"
   ]
  },
  {
   "cell_type": "code",
   "execution_count": 7,
   "id": "d7f709d9",
   "metadata": {
    "execution": {
     "iopub.execute_input": "2024-01-20T19:12:09.805041Z",
     "iopub.status.busy": "2024-01-20T19:12:09.803914Z",
     "iopub.status.idle": "2024-01-20T19:12:09.811094Z",
     "shell.execute_reply": "2024-01-20T19:12:09.810022Z"
    },
    "papermill": {
     "duration": 0.014033,
     "end_time": "2024-01-20T19:12:09.813447",
     "exception": false,
     "start_time": "2024-01-20T19:12:09.799414",
     "status": "completed"
    },
    "tags": []
   },
   "outputs": [],
   "source": [
    "def plt_spring(x,y,l,tta):\n",
    "    #project a helix to draw a spring\n",
    "    hx_r=0.05\n",
    "    hx_turns=30\n",
    "    padd=100\n",
    "    hp=np.linspace(0,l,1000)\n",
    "    #setup a horizontal helix\n",
    "    hel=np.zeros(1000)\n",
    "    hel[padd:-padd]=hx_r*np.sin(2*np.pi*hx_turns*hp[padd:-padd]/l)\n",
    "    rot=np.array([[np.cos(tta),-np.sin(tta)],[np.sin(tta),np.cos(tta)]])\n",
    "    xs,ys= - rot @ np.vstack((hel,hp))\n",
    "    ax.plot(xs,ys,c='k',lw=2)"
   ]
  },
  {
   "cell_type": "code",
   "execution_count": 8,
   "id": "3b11b9ef",
   "metadata": {
    "execution": {
     "iopub.execute_input": "2024-01-20T19:12:09.822781Z",
     "iopub.status.busy": "2024-01-20T19:12:09.822077Z",
     "iopub.status.idle": "2024-01-20T19:12:09.831085Z",
     "shell.execute_reply": "2024-01-20T19:12:09.830229Z"
    },
    "papermill": {
     "duration": 0.016277,
     "end_time": "2024-01-20T19:12:09.833333",
     "exception": false,
     "start_time": "2024-01-20T19:12:09.817056",
     "status": "completed"
    },
    "tags": []
   },
   "outputs": [],
   "source": [
    "def make_plot(i):\n",
    "    plt_spring(x[i],y[i],lgt[i],tta[i])\n",
    "    c0=Circle((0,0),r/2,fc='k',zorder=10)\n",
    "    c1=Circle((x[i],y[i]),r,fc='k',ec='r',zorder=10)\n",
    "    ax.add_patch(c0)\n",
    "    ax.add_patch(c1)\n",
    "    n=20\n",
    "    s= mtra//n\n",
    "    for j in range(n):\n",
    "        mini=i-(n-j)*s\n",
    "        if mini<0:\n",
    "            continue\n",
    "        maxi=mini+s+1\n",
    "        aa=(j/n)**2\n",
    "        ax.plot(x[mini:maxi],y[mini:maxi],c='r',lw=2,alpha=aa)\n",
    "    ax.set_xlim(-np.max(lgt)-r, np.max(lgt)+r)\n",
    "    ax.set_ylim(-np.max(lgt)-r, np.max(lgt\n",
    "                                      )+r)\n",
    "    \n",
    "    ax.set_aspect('equal', adjustable='box')\n",
    "    plt.axis('off')    \n",
    "    plt.savefig('_img{:04d}.png'.format(i//di), dpi=72)\n",
    "    plt.cla()"
   ]
  },
  {
   "cell_type": "code",
   "execution_count": 9,
   "id": "a0a5436f",
   "metadata": {
    "execution": {
     "iopub.execute_input": "2024-01-20T19:12:09.842097Z",
     "iopub.status.busy": "2024-01-20T19:12:09.841479Z",
     "iopub.status.idle": "2024-01-20T19:12:26.496922Z",
     "shell.execute_reply": "2024-01-20T19:12:26.495695Z"
    },
    "papermill": {
     "duration": 16.662429,
     "end_time": "2024-01-20T19:12:26.499276",
     "exception": false,
     "start_time": "2024-01-20T19:12:09.836847",
     "status": "completed"
    },
    "tags": []
   },
   "outputs": [
    {
     "name": "stdout",
     "output_type": "stream",
     "text": [
      "0 / 200\n",
      "1 / 200\n",
      "2 / 200\n",
      "3 / 200\n",
      "4 / 200\n",
      "5 / 200\n",
      "6 / 200\n",
      "7 / 200\n",
      "8 / 200\n",
      "9 / 200\n",
      "10 / 200\n",
      "11 / 200\n",
      "12 / 200\n",
      "13 / 200\n",
      "14 / 200\n",
      "15 / 200\n",
      "16 / 200\n",
      "17 / 200\n",
      "18 / 200\n",
      "19 / 200\n",
      "20 / 200\n",
      "21 / 200\n",
      "22 / 200\n",
      "23 / 200\n",
      "24 / 200\n",
      "25 / 200\n",
      "26 / 200\n",
      "27 / 200\n",
      "28 / 200\n",
      "29 / 200\n",
      "30 / 200\n",
      "31 / 200\n",
      "32 / 200\n",
      "33 / 200\n",
      "34 / 200\n",
      "35 / 200\n",
      "36 / 200\n",
      "37 / 200\n",
      "38 / 200\n",
      "39 / 200\n",
      "40 / 200\n",
      "41 / 200\n",
      "42 / 200\n",
      "43 / 200\n",
      "44 / 200\n",
      "45 / 200\n",
      "46 / 200\n",
      "47 / 200\n",
      "48 / 200\n",
      "49 / 200\n",
      "50 / 200\n",
      "51 / 200\n",
      "52 / 200\n",
      "53 / 200\n",
      "54 / 200\n",
      "55 / 200\n",
      "56 / 200\n",
      "57 / 200\n",
      "58 / 200\n",
      "59 / 200\n",
      "60 / 200\n",
      "61 / 200\n",
      "62 / 200\n",
      "63 / 200\n",
      "64 / 200\n",
      "65 / 200\n",
      "66 / 200\n",
      "67 / 200\n",
      "68 / 200\n",
      "69 / 200\n",
      "70 / 200\n",
      "71 / 200\n",
      "72 / 200\n",
      "73 / 200\n",
      "74 / 200\n",
      "75 / 200\n",
      "76 / 200\n",
      "77 / 200\n",
      "78 / 200\n",
      "79 / 200\n",
      "80 / 200\n",
      "81 / 200\n",
      "82 / 200\n",
      "83 / 200\n",
      "84 / 200\n",
      "85 / 200\n",
      "86 / 200\n",
      "87 / 200\n",
      "88 / 200\n",
      "89 / 200\n",
      "90 / 200\n",
      "91 / 200\n",
      "92 / 200\n",
      "93 / 200\n",
      "94 / 200\n",
      "95 / 200\n",
      "96 / 200\n",
      "97 / 200\n",
      "98 / 200\n",
      "99 / 200\n",
      "100 / 200\n",
      "101 / 200\n",
      "102 / 200\n",
      "103 / 200\n",
      "104 / 200\n",
      "105 / 200\n",
      "106 / 200\n",
      "107 / 200\n",
      "108 / 200\n",
      "109 / 200\n",
      "110 / 200\n",
      "111 / 200\n",
      "112 / 200\n",
      "113 / 200\n",
      "114 / 200\n",
      "115 / 200\n",
      "116 / 200\n",
      "117 / 200\n",
      "118 / 200\n",
      "119 / 200\n",
      "120 / 200\n",
      "121 / 200\n",
      "122 / 200\n",
      "123 / 200\n",
      "124 / 200\n",
      "125 / 200\n",
      "126 / 200\n",
      "127 / 200\n",
      "128 / 200\n",
      "129 / 200\n",
      "130 / 200\n",
      "131 / 200\n",
      "132 / 200\n",
      "133 / 200\n",
      "134 / 200\n",
      "135 / 200\n",
      "136 / 200\n",
      "137 / 200\n",
      "138 / 200\n",
      "139 / 200\n",
      "140 / 200\n",
      "141 / 200\n",
      "142 / 200\n",
      "143 / 200\n",
      "144 / 200\n",
      "145 / 200\n",
      "146 / 200\n",
      "147 / 200\n",
      "148 / 200\n",
      "149 / 200\n",
      "150 / 200\n",
      "151 / 200\n",
      "152 / 200\n",
      "153 / 200\n",
      "154 / 200\n",
      "155 / 200\n",
      "156 / 200\n",
      "157 / 200\n",
      "158 / 200\n",
      "159 / 200\n",
      "160 / 200\n",
      "161 / 200\n",
      "162 / 200\n",
      "163 / 200\n",
      "164 / 200\n",
      "165 / 200\n",
      "166 / 200\n",
      "167 / 200\n",
      "168 / 200\n",
      "169 / 200\n",
      "170 / 200\n",
      "171 / 200\n",
      "172 / 200\n",
      "173 / 200\n",
      "174 / 200\n",
      "175 / 200\n",
      "176 / 200\n",
      "177 / 200\n",
      "178 / 200\n",
      "179 / 200\n",
      "180 / 200\n",
      "181 / 200\n",
      "182 / 200\n",
      "183 / 200\n",
      "184 / 200\n",
      "185 / 200\n",
      "186 / 200\n",
      "187 / 200\n",
      "188 / 200\n",
      "189 / 200\n",
      "190 / 200\n",
      "191 / 200\n",
      "192 / 200\n",
      "193 / 200\n",
      "194 / 200\n",
      "195 / 200\n",
      "196 / 200\n",
      "197 / 200\n",
      "198 / 200\n",
      "199 / 200\n",
      "200 / 200\n"
     ]
    },
    {
     "data": {
      "image/png": "[encoded data removed]",
      "text/plain": [
       "<Figure size 600x450 with 1 Axes>"
      ]
     },
     "metadata": {},
     "output_type": "display_data"
    }
   ],
   "source": [
    "fps = 10\n",
    "di = int(1/fps/dt)\n",
    "\n",
    "fig = plt.figure(figsize=(8.33333333, 6.25), dpi=72)\n",
    "ax = fig.add_subplot(111)\n",
    "\n",
    "for i in range(0, t.size, di):\n",
    "    print(i // di, '/', t.size // di)\n",
    "    make_plot(i)"
   ]
  },
  {
   "cell_type": "code",
   "execution_count": null,
   "id": "0199b57c",
   "metadata": {
    "papermill": {
     "duration": 0.007402,
     "end_time": "2024-01-20T19:12:26.514496",
     "exception": false,
     "start_time": "2024-01-20T19:12:26.507094",
     "status": "completed"
    },
    "tags": []
   },
   "outputs": [],
   "source": []
  },
  {
   "cell_type": "code",
   "execution_count": null,
   "id": "ba7a6246",
   "metadata": {
    "papermill": {
     "duration": 0.007486,
     "end_time": "2024-01-20T19:12:26.530072",
     "exception": false,
     "start_time": "2024-01-20T19:12:26.522586",
     "status": "completed"
    },
    "tags": []
   },
   "outputs": [],
   "source": []
  }
 ],
 "metadata": {
  "kaggle": {
   "accelerator": "none",
   "dataSources": [],
   "dockerImageVersionId": 30635,
   "isGpuEnabled": false,
   "isInternetEnabled": true,
   "language": "python",
   "sourceType": "notebook"
  },
  "kernelspec": {
   "display_name": "Python 3",
   "language": "python",
   "name": "python3"
  },
  "language_info": {
   "codemirror_mode": {
    "name": "ipython",
    "version": 3
   },
   "file_extension": ".py",
   "mimetype": "text/x-python",
   "name": "python",
   "nbconvert_exporter": "python",
   "pygments_lexer": "ipython3",
   "version": "3.10.12"
  },
  "papermill": {
   "default_parameters": {},
   "duration": 20.901542,
   "end_time": "2024-01-20T19:12:26.958452",
   "environment_variables": {},
   "exception": null,
   "input_path": "__notebook__.ipynb",
   "output_path": "__notebook__.ipynb",
   "parameters": {},
   "start_time": "2024-01-20T19:12:06.056910",
   "version": "2.4.0"
  }
 },
 "nbformat": 4,
 "nbformat_minor": 5
}
